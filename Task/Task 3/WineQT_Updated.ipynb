{
 "cells": [
  {
   "cell_type": "code",
   "execution_count": 1,
   "metadata": {},
   "outputs": [
    {
     "name": "stdout",
     "output_type": "stream",
     "text": [
      "Best Decision Tree Parameters: {'max_depth': 3, 'min_samples_split': 2}\n",
      "Decision Tree Performance:\n",
      "              precision    recall  f1-score   support\n",
      "\n",
      "           0       1.00      1.00      1.00       229\n",
      "\n",
      "    accuracy                           1.00       229\n",
      "   macro avg       1.00      1.00      1.00       229\n",
      "weighted avg       1.00      1.00      1.00       229\n",
      "\n",
      "Best Random Forest Parameters: {'max_depth': 3, 'n_estimators': 50}\n",
      "Random Forest Performance:\n",
      "              precision    recall  f1-score   support\n",
      "\n",
      "           0       1.00      1.00      1.00       229\n",
      "\n",
      "    accuracy                           1.00       229\n",
      "   macro avg       1.00      1.00      1.00       229\n",
      "weighted avg       1.00      1.00      1.00       229\n",
      "\n"
     ]
    }
   ],
   "source": [
    "import pandas as pd\n",
    "import numpy as np\n",
    "from sklearn.model_selection import train_test_split, GridSearchCV\n",
    "from sklearn.preprocessing import StandardScaler\n",
    "from sklearn.tree import DecisionTreeClassifier\n",
    "from sklearn.ensemble import RandomForestClassifier\n",
    "from sklearn.metrics import classification_report\n",
    "\n",
    "# Load the dataset\n",
    "data = pd.read_csv('WineQT.csv')\n",
    "\n",
    "# Data Preprocessing\n",
    "data.fillna(data.mean(), inplace=True)\n",
    "scaler = StandardScaler()\n",
    "numerical_features = data.columns[:-1]  # Exclude the target column\n",
    "data[numerical_features] = scaler.fit_transform(data[numerical_features])\n",
    "data['quality'] = data['quality'].apply(lambda x: 1 if x >= 7 else 0)\n",
    "\n",
    "# Split data into features and target\n",
    "X = data.drop('quality', axis=1)\n",
    "y = data['quality']\n",
    "\n",
    "# Train-test split\n",
    "X_train, X_test, y_train, y_test = train_test_split(X, y, test_size=0.2, random_state=42)\n",
    "\n",
    "# Hyperparameter Tuning for Decision Tree\n",
    "dt_param_grid = {\n",
    "    'max_depth': [3, 5, 7, 10],\n",
    "    'min_samples_split': [2, 5, 10]\n",
    "}\n",
    "dt_grid_search = GridSearchCV(DecisionTreeClassifier(random_state=42), dt_param_grid, cv=5)\n",
    "dt_grid_search.fit(X_train, y_train)\n",
    "dt_best_model = dt_grid_search.best_estimator_\n",
    "y_pred_dt = dt_best_model.predict(X_test)\n",
    "\n",
    "# Evaluate Decision Tree\n",
    "print(\"Best Decision Tree Parameters:\", dt_grid_search.best_params_)\n",
    "print(\"Decision Tree Performance:\")\n",
    "print(classification_report(y_test, y_pred_dt))\n",
    "\n",
    "# Hyperparameter Tuning for Random Forest\n",
    "rf_param_grid = {\n",
    "    'n_estimators': [50, 100, 200],\n",
    "    'max_depth': [3, 5, 7, 10]\n",
    "}\n",
    "rf_grid_search = GridSearchCV(RandomForestClassifier(random_state=42), rf_param_grid, cv=5)\n",
    "rf_grid_search.fit(X_train, y_train)\n",
    "rf_best_model = rf_grid_search.best_estimator_\n",
    "y_pred_rf = rf_best_model.predict(X_test)\n",
    "\n",
    "# Evaluate Random Forest\n",
    "print(\"Best Random Forest Parameters:\", rf_grid_search.best_params_)\n",
    "print(\"Random Forest Performance:\")\n",
    "print(classification_report(y_test, y_pred_rf))\n"
   ]
  }
 ],
 "metadata": {
  "kernelspec": {
   "display_name": "Python 3",
   "language": "python",
   "name": "python3"
  },
  "language_info": {
   "codemirror_mode": {
    "name": "ipython",
    "version": 3
   },
   "file_extension": ".py",
   "mimetype": "text/x-python",
   "name": "python",
   "nbconvert_exporter": "python",
   "pygments_lexer": "ipython3",
   "version": "3.13.2"
  }
 },
 "nbformat": 4,
 "nbformat_minor": 4
}
